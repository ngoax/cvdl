{
  "nbformat": 4,
  "nbformat_minor": 0,
  "metadata": {
    "colab": {
      "provenance": [],
      "include_colab_link": true
    },
    "kernelspec": {
      "name": "python3",
      "display_name": "Python 3"
    },
    "language_info": {
      "name": "python"
    }
  },
  "cells": [
    {
      "cell_type": "markdown",
      "metadata": {
        "id": "view-in-github",
        "colab_type": "text"
      },
      "source": [
        "<a href=\"https://colab.research.google.com/github/ngoax/cvdl/blob/main/cvdl.ipynb\" target=\"_parent\"><img src=\"https://colab.research.google.com/assets/colab-badge.svg\" alt=\"Open In Colab\"/></a>"
      ]
    },
    {
      "cell_type": "code",
      "source": [
        "from google.colab import drive\n",
        "drive.mount('/content/drive')"
      ],
      "metadata": {
        "id": "Jl6I1HVtWJAq",
        "colab": {
          "base_uri": "https://localhost:8080/"
        },
        "outputId": "c15860e5-3378-48b7-e885-20f112e95d89"
      },
      "execution_count": null,
      "outputs": [
        {
          "output_type": "stream",
          "name": "stdout",
          "text": [
            "Drive already mounted at /content/drive; to attempt to forcibly remount, call drive.mount(\"/content/drive\", force_remount=True).\n"
          ]
        }
      ]
    },
    {
      "cell_type": "code",
      "source": [
        "import kagglehub\n",
        "msambare_fer2013_path = kagglehub.dataset_download('msambare/fer2013')\n",
        "\n",
        "print('Import of FER2013 complete')"
      ],
      "metadata": {
        "colab": {
          "base_uri": "https://localhost:8080/"
        },
        "collapsed": true,
        "id": "dLSz_h4qugwi",
        "outputId": "687293ad-a6a0-4ae9-a023-4772812d049c"
      },
      "execution_count": 4,
      "outputs": [
        {
          "output_type": "stream",
          "name": "stdout",
          "text": [
            "Data source import complete.\n"
          ]
        }
      ]
    },
    {
      "cell_type": "code",
      "source": [
        "from tensorflow.keras.preprocessing.image import ImageDataGenerator"
      ],
      "metadata": {
        "id": "NAPw3XOxvX8y"
      },
      "execution_count": 16,
      "outputs": []
    },
    {
      "cell_type": "code",
      "source": [
        "train_dir = \"../kaggle/input/fer2013/train\" # Directory containing the training data\n",
        "test_dir = \"../kaggle/input/fer2013/test\"  # Directory containing the validation data"
      ],
      "metadata": {
        "id": "C5hG1aQuvZMU"
      },
      "execution_count": 11,
      "outputs": []
    },
    {
      "cell_type": "code",
      "source": [
        "train_datagen = ImageDataGenerator(\n",
        "    width_shift_range = 0.1,        # Randomly shift the width of images by up to 10%\n",
        "    height_shift_range = 0.1,       # Randomly shift the height of images by up to 10%\n",
        "    horizontal_flip = True,         # Flip images horizontally at random\n",
        "    rescale = 1./255,               # Rescale pixel values to be between 0 and 1\n",
        "    validation_split = 0.2          # Set aside 20% of the data for validation\n",
        ")\n",
        "\n",
        "validation_datagen = ImageDataGenerator(\n",
        "    rescale = 1./255,               # Rescale pixel values to be between 0 and 1\n",
        "    validation_split = 0.2          # Set aside 20% of the data for validation\n",
        ")"
      ],
      "metadata": {
        "id": "s8dJUGBNvgBs"
      },
      "execution_count": 7,
      "outputs": []
    },
    {
      "cell_type": "code",
      "source": [
        "train_generator = train_datagen.flow_from_directory(\n",
        "    directory = train_dir,           # Directory containing the training data\n",
        "    target_size = (64, 64),          # Resizes all images to 48x48 pixels\n",
        "    batch_size = 64,                 # Number of images per batch\n",
        "    color_mode = \"grayscale\",        # Converts the images to grayscale\n",
        "    class_mode = \"categorical\",      # Classifies the images into 7 categories\n",
        "    subset = \"training\"              # Uses the training subset of the data\n",
        ")\n",
        "\n",
        "validation_generator = validation_datagen.flow_from_directory(\n",
        "    directory = test_dir,            # Directory containing the validation data\n",
        "    target_size = (64, 64),          # Resizes all images to 48x48 pixels\n",
        "    batch_size = 64,                 # Number of images per batch\n",
        "    color_mode = \"grayscale\",        # Converts the images to grayscale\n",
        "    class_mode = \"categorical\",      # Classifies the images into 7 categories\n",
        "    subset = \"validation\"            # Uses the validation subset of the data\n",
        ")"
      ],
      "metadata": {
        "colab": {
          "base_uri": "https://localhost:8080/"
        },
        "id": "mKPPy5S9vsFE",
        "outputId": "396400a8-26b4-461b-affb-37f8d083ab52"
      },
      "execution_count": 14,
      "outputs": [
        {
          "output_type": "stream",
          "name": "stdout",
          "text": [
            "Found 22968 images belonging to 7 classes.\n",
            "Found 1432 images belonging to 7 classes.\n"
          ]
        }
      ]
    },
    {
      "cell_type": "code",
      "source": [
        "from tensorflow.keras.layers import Dense, Dropout, Flatten\n",
        "from tensorflow.keras.layers import Conv2D, MaxPooling2D, BatchNormalization\n",
        "from tensorflow.keras.models import Sequential\n",
        "import tensorflow as tf\n",
        "\n",
        "# Define the model architecture\n",
        "model = Sequential()\n",
        "\n",
        "# Add a convolutional layer with 32 filters, 3x3 kernel size, and relu activation function\n",
        "model.add(Conv2D(32, kernel_size=(3, 3), activation='relu', input_shape=(64,64,1)))\n",
        "# Add a batch normalization layer\n",
        "model.add(BatchNormalization())\n",
        "# Add a second convolutional layer with 64 filters, 3x3 kernel size, and relu activation function\n",
        "model.add(Conv2D(64, kernel_size=(3, 3), activation='relu'))\n",
        "# Add a second batch normalization layer\n",
        "model.add(BatchNormalization())\n",
        "# Add a max pooling layer with 2x2 pool size\n",
        "model.add(MaxPooling2D(pool_size=(2, 2)))\n",
        "# Add a dropout layer with 0.25 dropout rate\n",
        "model.add(Dropout(0.25))\n",
        "\n",
        "# Add a third convolutional layer with 128 filters, 3x3 kernel size, and relu activation function\n",
        "model.add(Conv2D(128, kernel_size=(3, 3), activation='relu'))\n",
        "# Add a third batch normalization layer\n",
        "model.add(BatchNormalization())\n",
        "# Add a fourth convolutional layer with 128 filters, 3x3 kernel size, and relu activation function\n",
        "model.add(Conv2D(128, kernel_size=(3, 3), activation='relu'))\n",
        "# Add a fourth batch normalization layer\n",
        "model.add(BatchNormalization())\n",
        "# Add a max pooling layer with 2x2 pool size\n",
        "model.add(MaxPooling2D(pool_size=(2, 2)))\n",
        "# Add a dropout layer with 0.25 dropout rate\n",
        "model.add(Dropout(0.25))\n",
        "\n",
        "# Add a fifth convolutional layer with 256 filters, 3x3 kernel size, and relu activation function\n",
        "model.add(Conv2D(256, kernel_size=(3, 3), activation='relu'))\n",
        "# Add a fifth batch normalization layer\n",
        "model.add(BatchNormalization())\n",
        "# Add a sixth convolutional layer with 256 filters, 3x3 kernel size, and relu activation function\n",
        "model.add(Conv2D(256, kernel_size=(3, 3), activation='relu'))\n",
        "# Add a sixth batch normalization layer\n",
        "model.add(BatchNormalization())\n",
        "# Add a max pooling layer with 2x2 pool size\n",
        "model.add(MaxPooling2D(pool_size=(2, 2)))\n",
        "# Add a dropout layer with 0.25 dropout rate\n",
        "model.add(Dropout(0.25))\n",
        "\n",
        "# Flatten the output of the convolutional layers\n",
        "model.add(Flatten())\n",
        "# Add a dense layer with 256 neurons and relu activation function\n",
        "model.add(Dense(256, activation='relu'))\n",
        "# Add a seventh batch normalization layer\n",
        "model.add(BatchNormalization())\n",
        "# Add a dropout layer with 0.5 dropout rate\n",
        "model.add(Dropout(0.5))\n",
        "# Add a dense layer with 7 neurons (one for each class) and softmax activation function\n",
        "model.add(Dense(7, activation='softmax'))\n",
        "\n",
        "# Compile the model with categorical cross-entropy loss, adam optimizer, and accuracy metric\n",
        "opt = tf.keras.optimizers.Adam(learning_rate=0.0001)\n",
        "model.compile(loss=\"categorical_crossentropy\", optimizer=opt, metrics=['accuracy'])"
      ],
      "metadata": {
        "execution": {
          "iopub.status.busy": "2023-03-30T05:20:46.514854Z",
          "iopub.execute_input": "2023-03-30T05:20:46.515349Z",
          "iopub.status.idle": "2023-03-30T05:20:46.816466Z",
          "shell.execute_reply.started": "2023-03-30T05:20:46.515313Z",
          "shell.execute_reply": "2023-03-30T05:20:46.815058Z"
        },
        "trusted": true,
        "id": "z-SmYRv4vJem",
        "colab": {
          "base_uri": "https://localhost:8080/"
        },
        "outputId": "119a49de-6942-4701-cfb4-eda697a8c774"
      },
      "execution_count": 25,
      "outputs": [
        {
          "output_type": "stream",
          "name": "stderr",
          "text": [
            "/usr/local/lib/python3.11/dist-packages/keras/src/layers/convolutional/base_conv.py:107: UserWarning: Do not pass an `input_shape`/`input_dim` argument to a layer. When using Sequential models, prefer using an `Input(shape)` object as the first layer in the model instead.\n",
            "  super().__init__(activity_regularizer=activity_regularizer, **kwargs)\n"
          ]
        }
      ]
    },
    {
      "cell_type": "code",
      "source": [
        "from tensorflow.keras.callbacks import ModelCheckpoint\n",
        "\n",
        "# Define the callback\n",
        "checkpoint_callback = ModelCheckpoint(\n",
        "    filepath='model.weights.h5',\n",
        "    monitor='val_accuracy',\n",
        "    save_best_only=True,\n",
        "    save_weights_only=True,\n",
        "    mode='max',\n",
        "    verbose=1\n",
        ")\n",
        "\n",
        "# Train the model with the callback\n",
        "history = model.fit(\n",
        "    train_generator,\n",
        "    steps_per_epoch=len(train_generator),\n",
        "    epochs=50,\n",
        "    validation_data=validation_generator,\n",
        "    validation_steps=len(validation_generator),\n",
        "    callbacks=[checkpoint_callback]\n",
        ")"
      ],
      "metadata": {
        "colab": {
          "base_uri": "https://localhost:8080/"
        },
        "id": "tgKjhu0jzA9v",
        "outputId": "5d0a1f3b-334f-498e-8480-472f2a6a9c6a"
      },
      "execution_count": null,
      "outputs": [
        {
          "output_type": "stream",
          "name": "stdout",
          "text": [
            "Epoch 1/50\n",
            "\u001b[1m  3/359\u001b[0m \u001b[37m━━━━━━━━━━━━━━━━━━━━\u001b[0m \u001b[1m24:27\u001b[0m 4s/step - accuracy: 0.1450 - loss: 3.1484"
          ]
        }
      ]
    }
  ]
}