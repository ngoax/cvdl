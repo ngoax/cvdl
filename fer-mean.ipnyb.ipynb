{
  "cells": [
    {
      "cell_type": "markdown",
      "id": "c0072a92",
      "metadata": {
        "id": "c0072a92"
      },
      "source": [
        "# This script calculates the mean and standard deviation for the FER2013 dataset images."
      ]
    },
    {
      "cell_type": "code",
      "execution_count": 1,
      "id": "0cc605d1",
      "metadata": {
        "id": "0cc605d1"
      },
      "outputs": [],
      "source": [
        "\n",
        "import kagglehub\n",
        "import numpy as np\n",
        "\n",
        "import torch\n",
        "from torchvision.datasets import ImageFolder\n",
        "from torch.utils.data import DataLoader\n",
        "import albumentations as A\n",
        "from albumentations.pytorch import ToTensorV2"
      ]
    },
    {
      "cell_type": "markdown",
      "id": "2894df77",
      "metadata": {
        "id": "2894df77"
      },
      "source": [
        "# Download and Transform"
      ]
    },
    {
      "cell_type": "code",
      "execution_count": 2,
      "id": "0abb9b5b",
      "metadata": {
        "colab": {
          "base_uri": "https://localhost:8080/"
        },
        "id": "0abb9b5b",
        "outputId": "95df0494-6b23-49f8-85f4-5da7290b1b67"
      },
      "outputs": [
        {
          "output_type": "stream",
          "name": "stdout",
          "text": [
            "Import of FER2013 complete\n"
          ]
        }
      ],
      "source": [
        "msambare_fer2013_path = kagglehub.dataset_download('msambare/fer2013')\n",
        "\n",
        "print('Import of FER2013 complete')\n",
        "\n",
        "TRAIN_IMG_FOLDER_PATH = \"../kaggle/input/fer2013/train\"\n",
        "VALID_IMG_FOLDER_PATH = \"../kaggle/input/fer2013/test\"\n",
        "\n",
        "DEVICE = 'cuda'\n",
        "\n",
        "BATCH_SIZE = 32\n",
        "EPOCHS = 200\n",
        "LR = 0.001\n",
        "\n",
        "\n",
        "DEVICE = torch.device(\"cuda:0\" if torch.cuda.is_available() else \"cpu\")\n",
        "\n",
        "class AlbumentationsTransform: # Änderung\n",
        "    def __init__(self, aug):\n",
        "        self.aug = aug\n",
        "\n",
        "    def __call__(self, img):\n",
        "        img = np.array(img)  # PIL → NumPy\n",
        "        augmented = self.aug(image=img)\n",
        "        return augmented['image']\n",
        "\n",
        "\n",
        "# Resize + ToTensor only (no Normalize!)\n",
        "simple_transform = AlbumentationsTransform(\n",
        "    A.Compose([\n",
        "        A.Resize(64, 64),\n",
        "        ToTensorV2()\n",
        "    ])\n",
        ")\n",
        "\n",
        "# Load trainset without normalization\n",
        "trainset_for_stats = ImageFolder(TRAIN_IMG_FOLDER_PATH, transform=simple_transform)"
      ]
    },
    {
      "cell_type": "markdown",
      "id": "f4085f25",
      "metadata": {
        "id": "f4085f25"
      },
      "source": [
        "# Calculate Mean and Std"
      ]
    },
    {
      "cell_type": "code",
      "execution_count": 3,
      "id": "36f905fb",
      "metadata": {
        "colab": {
          "base_uri": "https://localhost:8080/"
        },
        "id": "36f905fb",
        "outputId": "4f06a2e7-3acb-4731-ff5b-02a188606349"
      },
      "outputs": [
        {
          "output_type": "stream",
          "name": "stderr",
          "text": [
            "100%|██████████| 225/225 [01:30<00:00,  2.50it/s]\n"
          ]
        },
        {
          "output_type": "stream",
          "name": "stdout",
          "text": [
            "Mean: tensor([0.5073, 0.5073, 0.5073])\n",
            "Std: tensor([0.2061, 0.2061, 0.2061])\n"
          ]
        },
        {
          "output_type": "stream",
          "name": "stderr",
          "text": [
            "100%|██████████| 225/225 [00:21<00:00, 10.34it/s]"
          ]
        },
        {
          "output_type": "stream",
          "name": "stdout",
          "text": [
            "Mean: tensor([0.5073, 0.5073, 0.5073])\n",
            "Std: tensor([0.2061, 0.2061, 0.2061])\n"
          ]
        },
        {
          "output_type": "stream",
          "name": "stderr",
          "text": [
            "\n"
          ]
        }
      ],
      "source": [
        "\n",
        "from torch.utils.data import DataLoader\n",
        "from tqdm import tqdm\n",
        "\n",
        "loader = DataLoader(trainset_for_stats, batch_size=128, shuffle=False, num_workers=2)\n",
        "\n",
        "mean = 0.\n",
        "std = 0.\n",
        "nb_samples = 0.\n",
        "\n",
        "for data, _ in tqdm(loader):\n",
        "    data = data.float() / 255.0  # Convert from uint8 [0,255] to float [0,1]\n",
        "    batch_samples = data.size(0)\n",
        "    data = data.view(batch_samples, data.size(1), -1)\n",
        "    mean += data.mean(2).sum(0)\n",
        "    std += data.std(2).sum(0)\n",
        "    nb_samples += batch_samples\n",
        "\n",
        "mean /= nb_samples\n",
        "std /= nb_samples\n",
        "\n",
        "print(f\"Mean: {mean}\")\n",
        "print(f\"Std: {std}\")\n",
        "\n",
        "class AlbumentationsTransform: # Änderung\n",
        "    def __init__(self, aug):\n",
        "        self.aug = aug\n",
        "\n",
        "    def __call__(self, img):\n",
        "        img = np.array(img)  # PIL → NumPy\n",
        "        augmented = self.aug(image=img)\n",
        "        return augmented['image']\n",
        "\n",
        "# Resize + ToTensor only (no Normalize!)\n",
        "simple_transform = AlbumentationsTransform(\n",
        "    A.Compose([\n",
        "        A.Resize(64, 64),\n",
        "        ToTensorV2()\n",
        "    ])\n",
        ")\n",
        "\n",
        "# Load trainset without normalization\n",
        "trainset_for_stats = ImageFolder(TRAIN_IMG_FOLDER_PATH, transform=simple_transform)\n",
        "\n",
        "from torch.utils.data import DataLoader\n",
        "from tqdm import tqdm\n",
        "\n",
        "loader = DataLoader(trainset_for_stats, batch_size=128, shuffle=False, num_workers=2)\n",
        "\n",
        "mean = 0.\n",
        "std = 0.\n",
        "nb_samples = 0.\n",
        "\n",
        "for data, _ in tqdm(loader):\n",
        "    data = data.float() / 255.0  # Convert from uint8 [0,255] to float [0,1]\n",
        "    batch_samples = data.size(0)\n",
        "    data = data.view(batch_samples, data.size(1), -1)\n",
        "    mean += data.mean(2).sum(0)\n",
        "    std += data.std(2).sum(0)\n",
        "    nb_samples += batch_samples\n",
        "\n",
        "mean /= nb_samples\n",
        "std /= nb_samples\n",
        "\n",
        "print(f\"Mean: {mean}\")\n",
        "print(f\"Std: {std}\")\n"
      ]
    }
  ],
  "metadata": {
    "language_info": {
      "name": "python"
    },
    "colab": {
      "provenance": []
    },
    "kernelspec": {
      "name": "python3",
      "display_name": "Python 3"
    }
  },
  "nbformat": 4,
  "nbformat_minor": 5
}